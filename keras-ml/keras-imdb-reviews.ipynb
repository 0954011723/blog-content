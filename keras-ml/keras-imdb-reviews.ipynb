{
  "nbformat": 4,
  "nbformat_minor": 0,
  "metadata": {
    "kernelspec": {
      "name": "python3",
      "display_name": "Python 3"
    },
    "language_info": {
      "codemirror_mode": {
        "name": "ipython",
        "version": 3
      },
      "file_extension": ".py",
      "mimetype": "text/x-python",
      "name": "python",
      "nbconvert_exporter": "python",
      "pygments_lexer": "ipython3",
      "version": "3.5.2"
    },
    "colab": {
      "name": "2. IMDB 二元分類.ipynb",
      "provenance": [],
      "machine_shape": "hm"
    },
    "accelerator": "GPU"
  },
  "cells": [
    {
      "cell_type": "code",
      "metadata": {
        "id": "xD_33W6AnucL",
        "colab_type": "code",
        "colab": {
          "base_uri": "https://localhost:8080/",
          "height": 51
        },
        "outputId": "8d79f8a1-ee9f-42ed-c4d9-b19dfa5d3ffc"
      },
      "source": [
        "import keras\n",
        "keras.__version__"
      ],
      "execution_count": 1,
      "outputs": [
        {
          "output_type": "stream",
          "text": [
            "Using TensorFlow backend.\n"
          ],
          "name": "stderr"
        },
        {
          "output_type": "execute_result",
          "data": {
            "text/plain": [
              "'2.3.1'"
            ]
          },
          "metadata": {
            "tags": []
          },
          "execution_count": 1
        }
      ]
    },
    {
      "cell_type": "markdown",
      "metadata": {
        "id": "6pkkX8dinucU",
        "colab_type": "text"
      },
      "source": [
        "# 透過二元分類訓練 IMDB 評論資料\n",
        "\n",
        "二元分類或稱兩類分類可能是在機器學習中應用最廣泛問題。只要處理的問題只有兩個結果，就可以適用。在這個例子中，我們將根據 IMDB 評論的文本內容將電影評論分為「正面」評論和「負面」評論。"
      ]
    },
    {
      "cell_type": "markdown",
      "metadata": {
        "id": "aI_IyEBrnucW",
        "colab_type": "text"
      },
      "source": [
        "## 關於 IMDB Dataset 資料集\n",
        "\n",
        "IMDB Dataset 是來自 Internet 電影數據庫 50,000 條評論文字。他們分為 25,000 條訓練數據和 25,000 條測試數據，每組皆包含包括 50％ 的負面評論和 50％ 的正面評論。\n",
        "\n",
        "我們可以直接透過 Keras Datasets 函式庫載入已經整理好的資料集。這些資料集已經經過處理，會將評論依據單詞順序，排列為整數序列，其中每個整數代表字典中的特定單詞。如下："
      ]
    },
    {
      "cell_type": "code",
      "metadata": {
        "id": "nDxW4TrunucY",
        "colab_type": "code",
        "colab": {
          "base_uri": "https://localhost:8080/",
          "height": 51
        },
        "outputId": "a3a199c9-8a53-43aa-b98d-d76382333841"
      },
      "source": [
        "from keras.datasets import imdb\n",
        "(train_data, train_labels), (test_data, test_labels) = imdb.load_data(num_words=10000)"
      ],
      "execution_count": 2,
      "outputs": [
        {
          "output_type": "stream",
          "text": [
            "Downloading data from https://s3.amazonaws.com/text-datasets/imdb.npz\n",
            "17465344/17464789 [==============================] - 1s 0us/step\n"
          ],
          "name": "stdout"
        }
      ]
    },
    {
      "cell_type": "markdown",
      "metadata": {
        "id": "58LVwCvMnucd",
        "colab_type": "text"
      },
      "source": [
        "num_words=10000 表示我們只採用前 10000 個常出現的字詞，此外在 label 中 0 表示負評 1 表示正評。"
      ]
    },
    {
      "cell_type": "code",
      "metadata": {
        "id": "cchIlS1Dnucr",
        "colab_type": "code",
        "colab": {
          "base_uri": "https://localhost:8080/",
          "height": 34
        },
        "outputId": "45ee5ce6-761d-4f76-b5d8-06efd2867ad9"
      },
      "source": [
        "max([max(sequence) for sequence in train_data])"
      ],
      "execution_count": 3,
      "outputs": [
        {
          "output_type": "execute_result",
          "data": {
            "text/plain": [
              "9999"
            ]
          },
          "metadata": {
            "tags": []
          },
          "execution_count": 3
        }
      ]
    },
    {
      "cell_type": "markdown",
      "metadata": {
        "id": "QJSBbYzhnucy",
        "colab_type": "text"
      },
      "source": [
        "也可以透過字典檔，將資料組合回評論文字。"
      ]
    },
    {
      "cell_type": "code",
      "metadata": {
        "id": "hsJ4dE5knucz",
        "colab_type": "code",
        "colab": {
          "base_uri": "https://localhost:8080/",
          "height": 88
        },
        "outputId": "ced5b933-d965-4413-f7f0-86aa40294e4d"
      },
      "source": [
        "# word_index is a dictionary mapping words to an integer index\n",
        "word_index = imdb.get_word_index()\n",
        "# We reverse it, mapping integer indices to words\n",
        "reverse_word_index = dict([(value, key) for (key, value) in word_index.items()])\n",
        "# We decode the review; note that our indices were offset by 3\n",
        "# because 0, 1 and 2 are reserved indices for \"padding\", \"start of sequence\", and \"unknown\".\n",
        "decoded_review = ' '.join([reverse_word_index.get(i - 3, '?') for i in train_data[0]])\n",
        "# show\n",
        "decoded_review"
      ],
      "execution_count": 4,
      "outputs": [
        {
          "output_type": "stream",
          "text": [
            "Downloading data from https://s3.amazonaws.com/text-datasets/imdb_word_index.json\n",
            "1646592/1641221 [==============================] - 0s 0us/step\n"
          ],
          "name": "stdout"
        },
        {
          "output_type": "execute_result",
          "data": {
            "text/plain": [
              "\"? this film was just brilliant casting location scenery story direction everyone's really suited the part they played and you could just imagine being there robert ? is an amazing actor and now the same being director ? father came from the same scottish island as myself so i loved the fact there was a real connection with this film the witty remarks throughout the film were great it was just brilliant so much that i bought the film as soon as it was released for ? and would recommend it to everyone to watch and the fly fishing was amazing really cried at the end it was so sad and you know what they say if you cry at a film it must have been good and this definitely was also ? to the two little boy's that played the ? of norman and paul they were just brilliant children are often left out of the ? list i think because the stars that play them all grown up are such a big profile for the whole film but these children are amazing and should be praised for what they have done don't you think the whole story was so lovely because it was true and was someone's life after all that was shared with us all\""
            ]
          },
          "metadata": {
            "tags": []
          },
          "execution_count": 4
        }
      ]
    },
    {
      "cell_type": "markdown",
      "metadata": {
        "id": "oI3yeUXRnuc4",
        "colab_type": "text"
      },
      "source": [
        "## 處理資料\n",
        "\n",
        "我們無法將代表字典檔索引位置的整數資料直接送進網路進行訓練，因此需要對資料進行轉換。由於我們只採用前 10000 常用字詞作為資料集，因此輸入資料可以轉換為 10000 維度的 one-hot-encode，例如 [3, 18] 表示一個全部都是 0 的陣列，只有 index 3, 18 是 1。我們會將這樣的資料格式作為張量進行訓練，轉換如下："
      ]
    },
    {
      "cell_type": "code",
      "metadata": {
        "id": "tK4Y7UQunuc5",
        "colab_type": "code",
        "colab": {}
      },
      "source": [
        "import numpy as np\n",
        "\n",
        "def vectorize_sequences(sequences, dimension=10000):\n",
        "    # Create an all-zero matrix of shape (len(sequences), dimension)\n",
        "    results = np.zeros((len(sequences), dimension))\n",
        "    for i, sequence in enumerate(sequences):\n",
        "        results[i, sequence] = 1.  # set specific indices of results[i] to 1s\n",
        "    return results\n",
        "\n",
        "# Our vectorized training data\n",
        "x_train = vectorize_sequences(train_data)\n",
        "# Our vectorized test data\n",
        "x_test = vectorize_sequences(test_data)"
      ],
      "execution_count": 0,
      "outputs": []
    },
    {
      "cell_type": "markdown",
      "metadata": {
        "id": "obsjCOTwnudD",
        "colab_type": "text"
      },
      "source": [
        "將結果標記進行正規化"
      ]
    },
    {
      "cell_type": "code",
      "metadata": {
        "id": "sStU2wu8nudE",
        "colab_type": "code",
        "colab": {}
      },
      "source": [
        "# Our vectorized labels\n",
        "y_train = np.asarray(train_labels).astype('float32')\n",
        "y_test = np.asarray(test_labels).astype('float32')"
      ],
      "execution_count": 0,
      "outputs": []
    },
    {
      "cell_type": "markdown",
      "metadata": {
        "id": "x4FBAIn6nudI",
        "colab_type": "text"
      },
      "source": [
        "## 建立網路架構\n",
        "\n",
        "這裡我們預計使用三層網路，全連接層僅使用兩層 16 個神經元的網路，啟動函數設定為 relu，連接最後使用一個神經元輸出（表示正評或負評），並使用 sigmoid 作為最後輸出的啟動函數。由下而上網路架構如下：\n",
        "\n",
        "![3-layer network](https://s3.amazonaws.com/book.keras.io/img/ch3/3_layer_network.png)"
      ]
    },
    {
      "cell_type": "code",
      "metadata": {
        "id": "RWEw7cB6nudK",
        "colab_type": "code",
        "colab": {}
      },
      "source": [
        "from keras import models\n",
        "from keras import layers\n",
        "\n",
        "model = models.Sequential()\n",
        "model.add(layers.Dense(16, activation='relu', input_shape=(10000,)))\n",
        "model.add(layers.Dense(16, activation='relu'))\n",
        "model.add(layers.Dense(1, activation='sigmoid'))"
      ],
      "execution_count": 0,
      "outputs": []
    },
    {
      "cell_type": "markdown",
      "metadata": {
        "id": "6CCbFrDjnudO",
        "colab_type": "text"
      },
      "source": [
        "\n",
        "將優化器設定為 rmsprop，損失函數使用 binary_crossentropy，將網路進行 Compile"
      ]
    },
    {
      "cell_type": "code",
      "metadata": {
        "id": "GVrxW9PpnudP",
        "colab_type": "code",
        "colab": {}
      },
      "source": [
        "model.compile(optimizer='rmsprop',\n",
        "              loss='binary_crossentropy',\n",
        "              metrics=['accuracy'])"
      ],
      "execution_count": 0,
      "outputs": []
    },
    {
      "cell_type": "markdown",
      "metadata": {
        "id": "mVzPG7flnuda",
        "colab_type": "text"
      },
      "source": [
        "## 訓練模型\n",
        "\n",
        "先將準備訓練的 25000 筆資料集，抽出 10000 筆資料集用在訓練時期的驗證資料，好讓我們監控訓練過程的準確性變化。如下："
      ]
    },
    {
      "cell_type": "code",
      "metadata": {
        "id": "2LvWfOoFnudc",
        "colab_type": "code",
        "colab": {}
      },
      "source": [
        "x_val = x_train[:10000]\n",
        "partial_x_train = x_train[10000:]\n",
        "\n",
        "y_val = y_train[:10000]\n",
        "partial_y_train = y_train[10000:]"
      ],
      "execution_count": 0,
      "outputs": []
    },
    {
      "cell_type": "markdown",
      "metadata": {
        "collapsed": true,
        "id": "LHmB9NWPnudf",
        "colab_type": "text"
      },
      "source": [
        "開始訓練模型"
      ]
    },
    {
      "cell_type": "code",
      "metadata": {
        "id": "iA2psGbenudg",
        "colab_type": "code",
        "colab": {
          "base_uri": "https://localhost:8080/",
          "height": 1000
        },
        "outputId": "437db4fa-f00d-4e62-e657-4d1fbb987914"
      },
      "source": [
        "history = model.fit(partial_x_train,\n",
        "                    partial_y_train,\n",
        "                    epochs=100,\n",
        "                    batch_size=512,\n",
        "                    validation_data=(x_val, y_val))"
      ],
      "execution_count": 10,
      "outputs": [
        {
          "output_type": "stream",
          "text": [
            "Train on 15000 samples, validate on 10000 samples\n",
            "Epoch 1/100\n",
            "15000/15000 [==============================] - 3s 191us/step - loss: 0.5147 - accuracy: 0.7758 - val_loss: 0.3763 - val_accuracy: 0.8717\n",
            "Epoch 2/100\n",
            "15000/15000 [==============================] - 1s 73us/step - loss: 0.2970 - accuracy: 0.9001 - val_loss: 0.3020 - val_accuracy: 0.8855\n",
            "Epoch 3/100\n",
            "15000/15000 [==============================] - 1s 72us/step - loss: 0.2175 - accuracy: 0.9279 - val_loss: 0.2801 - val_accuracy: 0.8906\n",
            "Epoch 4/100\n",
            "15000/15000 [==============================] - 1s 72us/step - loss: 0.1713 - accuracy: 0.9431 - val_loss: 0.2805 - val_accuracy: 0.8872\n",
            "Epoch 5/100\n",
            "15000/15000 [==============================] - 1s 70us/step - loss: 0.1401 - accuracy: 0.9525 - val_loss: 0.2845 - val_accuracy: 0.8873\n",
            "Epoch 6/100\n",
            "15000/15000 [==============================] - 1s 74us/step - loss: 0.1128 - accuracy: 0.9656 - val_loss: 0.2987 - val_accuracy: 0.8838\n",
            "Epoch 7/100\n",
            "15000/15000 [==============================] - 1s 80us/step - loss: 0.0933 - accuracy: 0.9730 - val_loss: 0.3205 - val_accuracy: 0.8831\n",
            "Epoch 8/100\n",
            "15000/15000 [==============================] - 1s 72us/step - loss: 0.0796 - accuracy: 0.9771 - val_loss: 0.3511 - val_accuracy: 0.8717\n",
            "Epoch 9/100\n",
            "15000/15000 [==============================] - 1s 72us/step - loss: 0.0634 - accuracy: 0.9835 - val_loss: 0.3577 - val_accuracy: 0.8801\n",
            "Epoch 10/100\n",
            "15000/15000 [==============================] - 1s 77us/step - loss: 0.0521 - accuracy: 0.9875 - val_loss: 0.3890 - val_accuracy: 0.8729\n",
            "Epoch 11/100\n",
            "15000/15000 [==============================] - 1s 77us/step - loss: 0.0401 - accuracy: 0.9911 - val_loss: 0.4135 - val_accuracy: 0.8752\n",
            "Epoch 12/100\n",
            "15000/15000 [==============================] - 1s 77us/step - loss: 0.0311 - accuracy: 0.9941 - val_loss: 0.4439 - val_accuracy: 0.8732\n",
            "Epoch 13/100\n",
            "15000/15000 [==============================] - 1s 76us/step - loss: 0.0240 - accuracy: 0.9957 - val_loss: 0.4807 - val_accuracy: 0.8727\n",
            "Epoch 14/100\n",
            "15000/15000 [==============================] - 1s 77us/step - loss: 0.0220 - accuracy: 0.9959 - val_loss: 0.5062 - val_accuracy: 0.8698\n",
            "Epoch 15/100\n",
            "15000/15000 [==============================] - 1s 77us/step - loss: 0.0165 - accuracy: 0.9972 - val_loss: 0.5411 - val_accuracy: 0.8719\n",
            "Epoch 16/100\n",
            "15000/15000 [==============================] - 1s 77us/step - loss: 0.0091 - accuracy: 0.9994 - val_loss: 0.6337 - val_accuracy: 0.8568\n",
            "Epoch 17/100\n",
            "15000/15000 [==============================] - 1s 77us/step - loss: 0.0102 - accuracy: 0.9985 - val_loss: 0.6054 - val_accuracy: 0.8671\n",
            "Epoch 18/100\n",
            "15000/15000 [==============================] - 1s 76us/step - loss: 0.0046 - accuracy: 0.9999 - val_loss: 0.6421 - val_accuracy: 0.8675\n",
            "Epoch 19/100\n",
            "15000/15000 [==============================] - 1s 76us/step - loss: 0.0079 - accuracy: 0.9982 - val_loss: 0.6753 - val_accuracy: 0.8659\n",
            "Epoch 20/100\n",
            "15000/15000 [==============================] - 1s 77us/step - loss: 0.0026 - accuracy: 0.9999 - val_loss: 0.7071 - val_accuracy: 0.8669\n",
            "Epoch 21/100\n",
            "15000/15000 [==============================] - 1s 76us/step - loss: 0.0062 - accuracy: 0.9983 - val_loss: 0.7466 - val_accuracy: 0.8656\n",
            "Epoch 22/100\n",
            "15000/15000 [==============================] - 1s 76us/step - loss: 0.0014 - accuracy: 0.9999 - val_loss: 0.7716 - val_accuracy: 0.8651\n",
            "Epoch 23/100\n",
            "15000/15000 [==============================] - 1s 78us/step - loss: 0.0059 - accuracy: 0.9985 - val_loss: 0.8120 - val_accuracy: 0.8623\n",
            "Epoch 24/100\n",
            "15000/15000 [==============================] - 1s 80us/step - loss: 8.9865e-04 - accuracy: 1.0000 - val_loss: 0.8299 - val_accuracy: 0.8649\n",
            "Epoch 25/100\n",
            "15000/15000 [==============================] - 1s 80us/step - loss: 7.2078e-04 - accuracy: 1.0000 - val_loss: 0.8666 - val_accuracy: 0.8631\n",
            "Epoch 26/100\n",
            "15000/15000 [==============================] - 1s 80us/step - loss: 0.0040 - accuracy: 0.9987 - val_loss: 0.9194 - val_accuracy: 0.8617\n",
            "Epoch 27/100\n",
            "15000/15000 [==============================] - 1s 76us/step - loss: 3.4977e-04 - accuracy: 1.0000 - val_loss: 0.9375 - val_accuracy: 0.8622\n",
            "Epoch 28/100\n",
            "15000/15000 [==============================] - 1s 77us/step - loss: 2.9203e-04 - accuracy: 1.0000 - val_loss: 0.9630 - val_accuracy: 0.8617\n",
            "Epoch 29/100\n",
            "15000/15000 [==============================] - 1s 77us/step - loss: 2.2984e-04 - accuracy: 1.0000 - val_loss: 1.0580 - val_accuracy: 0.8621\n",
            "Epoch 30/100\n",
            "15000/15000 [==============================] - 1s 77us/step - loss: 0.0013 - accuracy: 0.9997 - val_loss: 1.0366 - val_accuracy: 0.8625\n",
            "Epoch 31/100\n",
            "15000/15000 [==============================] - 1s 77us/step - loss: 1.3725e-04 - accuracy: 1.0000 - val_loss: 1.0599 - val_accuracy: 0.8612\n",
            "Epoch 32/100\n",
            "15000/15000 [==============================] - 1s 76us/step - loss: 1.0700e-04 - accuracy: 1.0000 - val_loss: 1.1131 - val_accuracy: 0.8578\n",
            "Epoch 33/100\n",
            "15000/15000 [==============================] - 1s 78us/step - loss: 0.0044 - accuracy: 0.9991 - val_loss: 1.1464 - val_accuracy: 0.8603\n",
            "Epoch 34/100\n",
            "15000/15000 [==============================] - 1s 77us/step - loss: 6.2901e-05 - accuracy: 1.0000 - val_loss: 1.1576 - val_accuracy: 0.8600\n",
            "Epoch 35/100\n",
            "15000/15000 [==============================] - 1s 78us/step - loss: 5.3530e-05 - accuracy: 1.0000 - val_loss: 1.1760 - val_accuracy: 0.8584\n",
            "Epoch 36/100\n",
            "15000/15000 [==============================] - 1s 76us/step - loss: 4.4986e-05 - accuracy: 1.0000 - val_loss: 1.2125 - val_accuracy: 0.8577\n",
            "Epoch 37/100\n",
            "15000/15000 [==============================] - 1s 77us/step - loss: 0.0014 - accuracy: 0.9994 - val_loss: 1.3031 - val_accuracy: 0.8613\n",
            "Epoch 38/100\n",
            "15000/15000 [==============================] - 1s 76us/step - loss: 3.7276e-05 - accuracy: 1.0000 - val_loss: 1.2912 - val_accuracy: 0.8586\n",
            "Epoch 39/100\n",
            "15000/15000 [==============================] - 1s 77us/step - loss: 2.3925e-05 - accuracy: 1.0000 - val_loss: 1.3011 - val_accuracy: 0.8584\n",
            "Epoch 40/100\n",
            "15000/15000 [==============================] - 1s 79us/step - loss: 1.9109e-05 - accuracy: 1.0000 - val_loss: 1.3243 - val_accuracy: 0.8580\n",
            "Epoch 41/100\n",
            "15000/15000 [==============================] - 1s 81us/step - loss: 1.4744e-05 - accuracy: 1.0000 - val_loss: 1.3755 - val_accuracy: 0.8558\n",
            "Epoch 42/100\n",
            "15000/15000 [==============================] - 1s 81us/step - loss: 0.0017 - accuracy: 0.9995 - val_loss: 1.4278 - val_accuracy: 0.8588\n",
            "Epoch 43/100\n",
            "15000/15000 [==============================] - 1s 78us/step - loss: 1.0380e-05 - accuracy: 1.0000 - val_loss: 1.4306 - val_accuracy: 0.8591\n",
            "Epoch 44/100\n",
            "15000/15000 [==============================] - 1s 77us/step - loss: 8.3125e-06 - accuracy: 1.0000 - val_loss: 1.4402 - val_accuracy: 0.8587\n",
            "Epoch 45/100\n",
            "15000/15000 [==============================] - 1s 78us/step - loss: 7.0071e-06 - accuracy: 1.0000 - val_loss: 1.4555 - val_accuracy: 0.8576\n",
            "Epoch 46/100\n",
            "15000/15000 [==============================] - 1s 77us/step - loss: 5.6558e-06 - accuracy: 1.0000 - val_loss: 1.4897 - val_accuracy: 0.8571\n",
            "Epoch 47/100\n",
            "15000/15000 [==============================] - 1s 77us/step - loss: 0.0024 - accuracy: 0.9995 - val_loss: 1.5553 - val_accuracy: 0.8561\n",
            "Epoch 48/100\n",
            "15000/15000 [==============================] - 1s 77us/step - loss: 4.3241e-06 - accuracy: 1.0000 - val_loss: 1.5460 - val_accuracy: 0.8558\n",
            "Epoch 49/100\n",
            "15000/15000 [==============================] - 1s 76us/step - loss: 3.3175e-06 - accuracy: 1.0000 - val_loss: 1.5512 - val_accuracy: 0.8562\n",
            "Epoch 50/100\n",
            "15000/15000 [==============================] - 1s 76us/step - loss: 2.9586e-06 - accuracy: 1.0000 - val_loss: 1.5582 - val_accuracy: 0.8572\n",
            "Epoch 51/100\n",
            "15000/15000 [==============================] - 1s 76us/step - loss: 2.6429e-06 - accuracy: 1.0000 - val_loss: 1.5695 - val_accuracy: 0.8576\n",
            "Epoch 52/100\n",
            "15000/15000 [==============================] - 1s 78us/step - loss: 2.2207e-06 - accuracy: 1.0000 - val_loss: 1.6066 - val_accuracy: 0.8564\n",
            "Epoch 53/100\n",
            "15000/15000 [==============================] - 1s 77us/step - loss: 1.5413e-06 - accuracy: 1.0000 - val_loss: 1.6626 - val_accuracy: 0.8575\n",
            "Epoch 54/100\n",
            "15000/15000 [==============================] - 1s 78us/step - loss: 0.0027 - accuracy: 0.9993 - val_loss: 1.6970 - val_accuracy: 0.8550\n",
            "Epoch 55/100\n",
            "15000/15000 [==============================] - 1s 77us/step - loss: 2.0211e-06 - accuracy: 1.0000 - val_loss: 1.6927 - val_accuracy: 0.8564\n",
            "Epoch 56/100\n",
            "15000/15000 [==============================] - 1s 77us/step - loss: 1.5116e-06 - accuracy: 1.0000 - val_loss: 1.6937 - val_accuracy: 0.8565\n",
            "Epoch 57/100\n",
            "15000/15000 [==============================] - 1s 81us/step - loss: 1.2155e-06 - accuracy: 1.0000 - val_loss: 1.6972 - val_accuracy: 0.8565\n",
            "Epoch 58/100\n",
            "15000/15000 [==============================] - 1s 80us/step - loss: 1.0131e-06 - accuracy: 1.0000 - val_loss: 1.7040 - val_accuracy: 0.8555\n",
            "Epoch 59/100\n",
            "15000/15000 [==============================] - 1s 79us/step - loss: 8.3601e-07 - accuracy: 1.0000 - val_loss: 1.7236 - val_accuracy: 0.8564\n",
            "Epoch 60/100\n",
            "15000/15000 [==============================] - 1s 76us/step - loss: 6.2515e-07 - accuracy: 1.0000 - val_loss: 1.7729 - val_accuracy: 0.8559\n",
            "Epoch 61/100\n",
            "15000/15000 [==============================] - 1s 77us/step - loss: 9.1290e-04 - accuracy: 0.9999 - val_loss: 1.8048 - val_accuracy: 0.8569\n",
            "Epoch 62/100\n",
            "15000/15000 [==============================] - 1s 78us/step - loss: 4.1409e-07 - accuracy: 1.0000 - val_loss: 1.8053 - val_accuracy: 0.8574\n",
            "Epoch 63/100\n",
            "15000/15000 [==============================] - 1s 76us/step - loss: 3.7350e-07 - accuracy: 1.0000 - val_loss: 1.8081 - val_accuracy: 0.8577\n",
            "Epoch 64/100\n",
            "15000/15000 [==============================] - 1s 76us/step - loss: 3.4921e-07 - accuracy: 1.0000 - val_loss: 1.8132 - val_accuracy: 0.8580\n",
            "Epoch 65/100\n",
            "15000/15000 [==============================] - 1s 79us/step - loss: 3.2413e-07 - accuracy: 1.0000 - val_loss: 1.8209 - val_accuracy: 0.8576\n",
            "Epoch 66/100\n",
            "15000/15000 [==============================] - 1s 77us/step - loss: 2.9214e-07 - accuracy: 1.0000 - val_loss: 1.8371 - val_accuracy: 0.8574\n",
            "Epoch 67/100\n",
            "15000/15000 [==============================] - 1s 76us/step - loss: 2.3712e-07 - accuracy: 1.0000 - val_loss: 1.8728 - val_accuracy: 0.8573\n",
            "Epoch 68/100\n",
            "15000/15000 [==============================] - 1s 76us/step - loss: 1.7620e-07 - accuracy: 1.0000 - val_loss: 1.9266 - val_accuracy: 0.8578\n",
            "Epoch 69/100\n",
            "15000/15000 [==============================] - 1s 78us/step - loss: 1.1461e-07 - accuracy: 1.0000 - val_loss: 1.9816 - val_accuracy: 0.8575\n",
            "Epoch 70/100\n",
            "15000/15000 [==============================] - 1s 77us/step - loss: 7.4006e-08 - accuracy: 1.0000 - val_loss: 2.0268 - val_accuracy: 0.8574\n",
            "Epoch 71/100\n",
            "15000/15000 [==============================] - 1s 79us/step - loss: 5.3458e-08 - accuracy: 1.0000 - val_loss: 2.0671 - val_accuracy: 0.8577\n",
            "Epoch 72/100\n",
            "15000/15000 [==============================] - 1s 79us/step - loss: 4.0573e-08 - accuracy: 1.0000 - val_loss: 2.1005 - val_accuracy: 0.8578\n",
            "Epoch 73/100\n",
            "15000/15000 [==============================] - 1s 78us/step - loss: 3.1866e-08 - accuracy: 1.0000 - val_loss: 2.1256 - val_accuracy: 0.8577\n",
            "Epoch 74/100\n",
            "15000/15000 [==============================] - 1s 77us/step - loss: 2.5809e-08 - accuracy: 1.0000 - val_loss: 2.1520 - val_accuracy: 0.8576\n",
            "Epoch 75/100\n",
            "15000/15000 [==============================] - 1s 77us/step - loss: 2.1187e-08 - accuracy: 1.0000 - val_loss: 2.1746 - val_accuracy: 0.8577\n",
            "Epoch 76/100\n",
            "15000/15000 [==============================] - 1s 77us/step - loss: 1.8179e-08 - accuracy: 1.0000 - val_loss: 2.1936 - val_accuracy: 0.8576\n",
            "Epoch 77/100\n",
            "15000/15000 [==============================] - 1s 77us/step - loss: 1.5682e-08 - accuracy: 1.0000 - val_loss: 2.2115 - val_accuracy: 0.8575\n",
            "Epoch 78/100\n",
            "15000/15000 [==============================] - 1s 77us/step - loss: 1.3786e-08 - accuracy: 1.0000 - val_loss: 2.2273 - val_accuracy: 0.8579\n",
            "Epoch 79/100\n",
            "15000/15000 [==============================] - 1s 76us/step - loss: 1.2226e-08 - accuracy: 1.0000 - val_loss: 2.2412 - val_accuracy: 0.8579\n",
            "Epoch 80/100\n",
            "15000/15000 [==============================] - 1s 75us/step - loss: 1.1008e-08 - accuracy: 1.0000 - val_loss: 2.2546 - val_accuracy: 0.8576\n",
            "Epoch 81/100\n",
            "15000/15000 [==============================] - 1s 76us/step - loss: 1.0047e-08 - accuracy: 1.0000 - val_loss: 2.2666 - val_accuracy: 0.8576\n",
            "Epoch 82/100\n",
            "15000/15000 [==============================] - 1s 77us/step - loss: 9.1911e-09 - accuracy: 1.0000 - val_loss: 2.2779 - val_accuracy: 0.8576\n",
            "Epoch 83/100\n",
            "15000/15000 [==============================] - 1s 76us/step - loss: 8.4391e-09 - accuracy: 1.0000 - val_loss: 2.2883 - val_accuracy: 0.8578\n",
            "Epoch 84/100\n",
            "15000/15000 [==============================] - 1s 78us/step - loss: 7.8571e-09 - accuracy: 1.0000 - val_loss: 2.2980 - val_accuracy: 0.8576\n",
            "Epoch 85/100\n",
            "15000/15000 [==============================] - 1s 79us/step - loss: 7.3063e-09 - accuracy: 1.0000 - val_loss: 2.3072 - val_accuracy: 0.8577\n",
            "Epoch 86/100\n",
            "15000/15000 [==============================] - 1s 78us/step - loss: 6.8534e-09 - accuracy: 1.0000 - val_loss: 2.3157 - val_accuracy: 0.8576\n",
            "Epoch 87/100\n",
            "15000/15000 [==============================] - 1s 78us/step - loss: 6.4726e-09 - accuracy: 1.0000 - val_loss: 2.3233 - val_accuracy: 0.8578\n",
            "Epoch 88/100\n",
            "15000/15000 [==============================] - 1s 79us/step - loss: 6.0819e-09 - accuracy: 1.0000 - val_loss: 2.3316 - val_accuracy: 0.8576\n",
            "Epoch 89/100\n",
            "15000/15000 [==============================] - 1s 79us/step - loss: 5.7700e-09 - accuracy: 1.0000 - val_loss: 2.3387 - val_accuracy: 0.8574\n",
            "Epoch 90/100\n",
            "15000/15000 [==============================] - 1s 80us/step - loss: 5.4734e-09 - accuracy: 1.0000 - val_loss: 2.3459 - val_accuracy: 0.8573\n",
            "Epoch 91/100\n",
            "15000/15000 [==============================] - 1s 80us/step - loss: 5.2342e-09 - accuracy: 1.0000 - val_loss: 2.3518 - val_accuracy: 0.8579\n",
            "Epoch 92/100\n",
            "15000/15000 [==============================] - 1s 78us/step - loss: 4.9895e-09 - accuracy: 1.0000 - val_loss: 2.3592 - val_accuracy: 0.8575\n",
            "Epoch 93/100\n",
            "15000/15000 [==============================] - 1s 77us/step - loss: 4.7679e-09 - accuracy: 1.0000 - val_loss: 2.3648 - val_accuracy: 0.8576\n",
            "Epoch 94/100\n",
            "15000/15000 [==============================] - 1s 76us/step - loss: 4.5554e-09 - accuracy: 1.0000 - val_loss: 2.3705 - val_accuracy: 0.8576\n",
            "Epoch 95/100\n",
            "15000/15000 [==============================] - 1s 77us/step - loss: 4.3999e-09 - accuracy: 1.0000 - val_loss: 2.3755 - val_accuracy: 0.8576\n",
            "Epoch 96/100\n",
            "15000/15000 [==============================] - 1s 78us/step - loss: 4.2435e-09 - accuracy: 1.0000 - val_loss: 2.3809 - val_accuracy: 0.8576\n",
            "Epoch 97/100\n",
            "15000/15000 [==============================] - 1s 77us/step - loss: 4.0927e-09 - accuracy: 1.0000 - val_loss: 2.3859 - val_accuracy: 0.8570\n",
            "Epoch 98/100\n",
            "15000/15000 [==============================] - 1s 77us/step - loss: 3.9553e-09 - accuracy: 1.0000 - val_loss: 2.3903 - val_accuracy: 0.8576\n",
            "Epoch 99/100\n",
            "15000/15000 [==============================] - 1s 76us/step - loss: 3.8272e-09 - accuracy: 1.0000 - val_loss: 2.3953 - val_accuracy: 0.8570\n",
            "Epoch 100/100\n",
            "15000/15000 [==============================] - 1s 76us/step - loss: 3.7272e-09 - accuracy: 1.0000 - val_loss: 2.3999 - val_accuracy: 0.8571\n"
          ],
          "name": "stdout"
        }
      ]
    },
    {
      "cell_type": "markdown",
      "metadata": {
        "id": "PZyNG9j3nudj",
        "colab_type": "text"
      },
      "source": [
        "訓練的過程會把相關資訊存放在 history，透過事後分析訓練過程的資訊可以幫助我們優化參數。"
      ]
    },
    {
      "cell_type": "code",
      "metadata": {
        "id": "VWe-59v-nudj",
        "colab_type": "code",
        "colab": {
          "base_uri": "https://localhost:8080/",
          "height": 34
        },
        "outputId": "ba6cbe32-bb85-43c6-b53d-e5eee7953dfe"
      },
      "source": [
        "history_dict = history.history\n",
        "history_dict.keys()"
      ],
      "execution_count": 11,
      "outputs": [
        {
          "output_type": "execute_result",
          "data": {
            "text/plain": [
              "dict_keys(['val_loss', 'val_accuracy', 'loss', 'accuracy'])"
            ]
          },
          "metadata": {
            "tags": []
          },
          "execution_count": 11
        }
      ]
    },
    {
      "cell_type": "markdown",
      "metadata": {
        "id": "MFyPBKFYnudn",
        "colab_type": "text"
      },
      "source": [
        "透過上面的方法可以取得訓練 History 包含的資訊，然後我們將資訊繪製成為圖表，如下："
      ]
    },
    {
      "cell_type": "code",
      "metadata": {
        "id": "BTzIYXAinudo",
        "colab_type": "code",
        "outputId": "cecefb6a-3531-4dff-e79a-f96a88014436",
        "cellView": "both",
        "colab": {
          "base_uri": "https://localhost:8080/",
          "height": 295
        }
      },
      "source": [
        "#@title\n",
        "import matplotlib.pyplot as plt\n",
        "\n",
        "acc = history.history['accuracy']\n",
        "val_acc = history.history['val_accuracy']\n",
        "loss = history.history['loss']\n",
        "val_loss = history.history['val_loss']\n",
        "\n",
        "epochs = range(1, len(acc) + 1)\n",
        "\n",
        "# \"bo\" is for \"blue dot\"\n",
        "plt.plot(epochs, loss, 'bo', label='Training loss')\n",
        "# b is for \"solid blue line\"\n",
        "plt.plot(epochs, val_loss, 'b', label='Validation loss')\n",
        "plt.title('Training and validation loss')\n",
        "plt.xlabel('Epochs')\n",
        "plt.ylabel('Loss')\n",
        "plt.legend()\n",
        "\n",
        "plt.show()"
      ],
      "execution_count": 12,
      "outputs": [
        {
          "output_type": "display_data",
          "data": {
            "image/png": "[encoded data removed]",
            "text/plain": [
              "<Figure size 432x288 with 1 Axes>"
            ]
          },
          "metadata": {
            "tags": [],
            "needs_background": "light"
          }
        }
      ]
    },
    {
      "cell_type": "code",
      "metadata": {
        "id": "wTsXBiMinudr",
        "colab_type": "code",
        "outputId": "934496e8-dad3-4087-b8cb-52f5cc94e3a9",
        "colab": {
          "base_uri": "https://localhost:8080/",
          "height": 295
        }
      },
      "source": [
        "plt.clf()   # clear figure\n",
        "acc_values = history_dict['accuracy']\n",
        "val_acc_values = history_dict['val_accuracy']\n",
        "\n",
        "plt.plot(epochs, acc, 'bo', label='Training acc')\n",
        "plt.plot(epochs, val_acc, 'b', label='Validation acc')\n",
        "plt.title('Training and validation accuracy')\n",
        "plt.xlabel('Epochs')\n",
        "plt.ylabel('Loss')\n",
        "plt.legend()\n",
        "\n",
        "plt.show()"
      ],
      "execution_count": 13,
      "outputs": [
        {
          "output_type": "display_data",
          "data": {
            "image/png": "[encoded data removed]",
            "text/plain": [
              "<Figure size 432x288 with 1 Axes>"
            ]
          },
          "metadata": {
            "tags": [],
            "needs_background": "light"
          }
        }
      ]
    },
    {
      "cell_type": "markdown",
      "metadata": {
        "id": "vKX5gw4qnudu",
        "colab_type": "text"
      },
      "source": [
        "由上面的數據可以看出來，以現在的網路架構，其實在第 3 次 Epoch 就已經獲得最佳的結果，之後的訓練已經造成過度擬合 (Over Fitting)，因此在這個案例中將 Epoch 設定為 3 或 4 是取得最佳訓練模型的方法。"
      ]
    }
  ]
}
