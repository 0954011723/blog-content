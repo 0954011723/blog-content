{
  "nbformat": 4,
  "nbformat_minor": 0,
  "metadata": {
    "kernelspec": {
      "display_name": "Python 3",
      "language": "python",
      "name": "python3"
    },
    "language_info": {
      "codemirror_mode": {
        "name": "ipython",
        "version": 3
      },
      "file_extension": ".py",
      "mimetype": "text/x-python",
      "name": "python",
      "nbconvert_exporter": "python",
      "pygments_lexer": "ipython3",
      "version": "3.5.2"
    },
    "colab": {
      "name": "1. Keras-MNIST NN.ipynb",
      "provenance": [],
      "collapsed_sections": []
    },
    "accelerator": "GPU"
  },
  "cells": [
    {
      "cell_type": "code",
      "metadata": {
        "id": "Wo_tIFcbsWsh",
        "colab_type": "code",
        "outputId": "7849b9d5-f9fd-42a9-bf75-3ec242dc8f53",
        "colab": {
          "base_uri": "https://localhost:8080/",
          "height": 34
        }
      },
      "source": [
        "import keras\n",
        "keras.__version__"
      ],
      "execution_count": 0,
      "outputs": [
        {
          "output_type": "execute_result",
          "data": {
            "text/plain": [
              "'2.3.1'"
            ]
          },
          "metadata": {
            "tags": []
          },
          "execution_count": 75
        }
      ]
    },
    {
      "cell_type": "markdown",
      "metadata": {
        "id": "ew4NYq9qsWsq",
        "colab_type": "text"
      },
      "source": [
        "# Python Keras MNIST 手寫辨識\n",
        "\n",
        "這是一個神經網路的範例，利用了 Python Keras 來訓練一個手寫辨識分類 Model。\n",
        "\n",
        "我們要的問題是將手寫數字的灰度圖像（28x28 Pixel）分類為 10 類（0至9）。使用的數據集是 MNIST 典數據集，它是由國家標準技術研究所（MNIST 的 NIST）在1980年代組裝而成的，包含 60,000 張訓練圖像和 10,000 張測試圖像。您可以將「解決」MNIST 視為深度學習的 \"Hello World\"。"
      ]
    },
    {
      "cell_type": "markdown",
      "metadata": {
        "id": "IfEj-7_ruHYV",
        "colab_type": "text"
      },
      "source": [
        "由於 Keras 已經整理了一些經典的 Play Book Data，因此我們可以很快透過以下方式取得 MNIST 資料集"
      ]
    },
    {
      "cell_type": "code",
      "metadata": {
        "id": "j2mnzx6dsWss",
        "colab_type": "code",
        "colab": {}
      },
      "source": [
        "from keras.datasets import mnist\n",
        "\n",
        "(train_images, train_labels), (test_images, test_labels) = mnist.load_data()"
      ],
      "execution_count": 0,
      "outputs": []
    },
    {
      "cell_type": "markdown",
      "metadata": {
        "id": "4_1MlWirsWtB",
        "colab_type": "text"
      },
      "source": [
        "images 是用來訓練與測試的資料，label 則為每一筆影像資料對應的正確答案，每一張手寫圖片都是 28 x 28 的灰階 Bit Map"
      ]
    },
    {
      "cell_type": "code",
      "metadata": {
        "id": "f2WYWTatsWtC",
        "colab_type": "code",
        "outputId": "638acf04-1f57-4128-8602-f0d3a6330d58",
        "colab": {
          "base_uri": "https://localhost:8080/",
          "height": 34
        }
      },
      "source": [
        "train_images.shape"
      ],
      "execution_count": 0,
      "outputs": [
        {
          "output_type": "execute_result",
          "data": {
            "text/plain": [
              "(60000, 28, 28)"
            ]
          },
          "metadata": {
            "tags": []
          },
          "execution_count": 77
        }
      ]
    },
    {
      "cell_type": "code",
      "metadata": {
        "id": "iHXYHenEsWtF",
        "colab_type": "code",
        "outputId": "0cf30678-641c-4457-cfce-01bd17ff3c39",
        "colab": {
          "base_uri": "https://localhost:8080/",
          "height": 34
        }
      },
      "source": [
        "len(train_labels)"
      ],
      "execution_count": 0,
      "outputs": [
        {
          "output_type": "execute_result",
          "data": {
            "text/plain": [
              "60000"
            ]
          },
          "metadata": {
            "tags": []
          },
          "execution_count": 78
        }
      ]
    },
    {
      "cell_type": "code",
      "metadata": {
        "id": "h7uWisUlsWtI",
        "colab_type": "code",
        "outputId": "2776557c-508f-403b-e9c7-adf6784a5090",
        "colab": {
          "base_uri": "https://localhost:8080/",
          "height": 34
        }
      },
      "source": [
        "train_labels"
      ],
      "execution_count": 0,
      "outputs": [
        {
          "output_type": "execute_result",
          "data": {
            "text/plain": [
              "array([5, 0, 4, ..., 5, 6, 8], dtype=uint8)"
            ]
          },
          "metadata": {
            "tags": []
          },
          "execution_count": 79
        }
      ]
    },
    {
      "cell_type": "markdown",
      "metadata": {
        "id": "HWeR30B7sWtM",
        "colab_type": "text"
      },
      "source": [
        "Let's have a look at the test data:"
      ]
    },
    {
      "cell_type": "code",
      "metadata": {
        "id": "tH0iJlaLsWtN",
        "colab_type": "code",
        "outputId": "21f9086e-b8b6-4355-805d-7fdfc0fa680f",
        "colab": {
          "base_uri": "https://localhost:8080/",
          "height": 34
        }
      },
      "source": [
        "test_images.shape"
      ],
      "execution_count": 0,
      "outputs": [
        {
          "output_type": "execute_result",
          "data": {
            "text/plain": [
              "(10000, 28, 28)"
            ]
          },
          "metadata": {
            "tags": []
          },
          "execution_count": 80
        }
      ]
    },
    {
      "cell_type": "code",
      "metadata": {
        "id": "XGp_yAo6sWtQ",
        "colab_type": "code",
        "outputId": "2b4a92d2-7915-4981-b073-28ebeaad95a5",
        "colab": {
          "base_uri": "https://localhost:8080/",
          "height": 34
        }
      },
      "source": [
        "len(test_labels)"
      ],
      "execution_count": 0,
      "outputs": [
        {
          "output_type": "execute_result",
          "data": {
            "text/plain": [
              "10000"
            ]
          },
          "metadata": {
            "tags": []
          },
          "execution_count": 81
        }
      ]
    },
    {
      "cell_type": "code",
      "metadata": {
        "id": "juNKCtIEsWtU",
        "colab_type": "code",
        "outputId": "3fca71c9-504b-4f78-94ef-97e9fd632012",
        "colab": {
          "base_uri": "https://localhost:8080/",
          "height": 34
        }
      },
      "source": [
        "test_labels"
      ],
      "execution_count": 0,
      "outputs": [
        {
          "output_type": "execute_result",
          "data": {
            "text/plain": [
              "array([7, 2, 1, ..., 4, 5, 6], dtype=uint8)"
            ]
          },
          "metadata": {
            "tags": []
          },
          "execution_count": 82
        }
      ]
    },
    {
      "cell_type": "code",
      "metadata": {
        "id": "RwoYg6Q2sWtY",
        "colab_type": "code",
        "colab": {}
      },
      "source": [
        "from keras import models\n",
        "from keras import layers\n",
        "\n",
        "network = models.Sequential()\n",
        "network.add(layers.Dense(512, activation='relu', input_shape=(28 * 28,)))\n",
        "network.add(layers.Dense(10, activation='softmax'))"
      ],
      "execution_count": 0,
      "outputs": []
    },
    {
      "cell_type": "markdown",
      "metadata": {
        "id": "o32o6XjqsWtb",
        "colab_type": "text"
      },
      "source": [
        "上面這裡是神經網路的核心組成方式，我們在全連接層建立了兩層，由一個有 512 個神經元的網路架構連接到 10 個神經元的輸出層。輸出層採用 softmax 表示數字 0~9 的機率分配，這 10 個數字的總和將會是 1。以下將我們建立的網路進行 compile，這裡詳細的參數以後會介紹。"
      ]
    },
    {
      "cell_type": "code",
      "metadata": {
        "id": "IM_H7xf8sWtc",
        "colab_type": "code",
        "colab": {}
      },
      "source": [
        "network.compile(optimizer='rmsprop',\n",
        "                loss='categorical_crossentropy',\n",
        "                metrics=['accuracy'])"
      ],
      "execution_count": 0,
      "outputs": []
    },
    {
      "cell_type": "markdown",
      "metadata": {
        "id": "8DgKZNqNsWtf",
        "colab_type": "text"
      },
      "source": [
        "\n",
        "以下將資料正規劃成為 0~1 的數值，變成 60000, 28x28 Shape 好送進上面定義的網路輸入層。"
      ]
    },
    {
      "cell_type": "code",
      "metadata": {
        "id": "CwlXFOF4sWtf",
        "colab_type": "code",
        "colab": {}
      },
      "source": [
        "fix_train_images = train_images.reshape((60000, 28 * 28)).astype('float32') / 255\n",
        "fix_test_images = test_images.reshape((10000, 28 * 28)).astype('float32') / 255"
      ],
      "execution_count": 0,
      "outputs": []
    },
    {
      "cell_type": "markdown",
      "metadata": {
        "id": "7fMWx4uusWtj",
        "colab_type": "text"
      },
      "source": [
        "由於我們使用的 categorical_crossentropy 損失函數，因此將標記資料進行格式轉換。如下："
      ]
    },
    {
      "cell_type": "code",
      "metadata": {
        "id": "NpzKOM4IsWtj",
        "colab_type": "code",
        "colab": {}
      },
      "source": [
        "from keras.utils import to_categorical\n",
        "\n",
        "fix_train_labels = to_categorical(train_labels)\n",
        "fix_test_labels = to_categorical(test_labels)"
      ],
      "execution_count": 0,
      "outputs": []
    },
    {
      "cell_type": "markdown",
      "metadata": {
        "id": "4BneVUiWsWtl",
        "colab_type": "text"
      },
      "source": [
        "進行訓練模型，訓練中的正確率應該會在 0.989 左右"
      ]
    },
    {
      "cell_type": "code",
      "metadata": {
        "id": "hyAErT-lsWtm",
        "colab_type": "code",
        "outputId": "91e9814a-ee39-41b6-97d3-6afd7236c66e",
        "colab": {
          "base_uri": "https://localhost:8080/",
          "height": 714
        }
      },
      "source": [
        "result = network.fit(\n",
        "    fix_train_images,\n",
        "    fix_train_labels,\n",
        "    epochs=20,\n",
        "    batch_size=128,\n",
        "    validation_data=(fix_test_images, fix_test_labels))"
      ],
      "execution_count": 0,
      "outputs": [
        {
          "output_type": "stream",
          "text": [
            "Train on 60000 samples, validate on 10000 samples\n",
            "Epoch 1/20\n",
            "60000/60000 [==============================] - 1s 23us/step - loss: 0.2560 - accuracy: 0.9257 - val_loss: 0.1405 - val_accuracy: 0.9563\n",
            "Epoch 2/20\n",
            "60000/60000 [==============================] - 1s 21us/step - loss: 0.1019 - accuracy: 0.9699 - val_loss: 0.1025 - val_accuracy: 0.9681\n",
            "Epoch 3/20\n",
            "60000/60000 [==============================] - 1s 21us/step - loss: 0.0680 - accuracy: 0.9800 - val_loss: 0.0757 - val_accuracy: 0.9763\n",
            "Epoch 4/20\n",
            "60000/60000 [==============================] - 1s 22us/step - loss: 0.0495 - accuracy: 0.9850 - val_loss: 0.0696 - val_accuracy: 0.9776\n",
            "Epoch 5/20\n",
            "60000/60000 [==============================] - 1s 22us/step - loss: 0.0373 - accuracy: 0.9891 - val_loss: 0.0630 - val_accuracy: 0.9805\n",
            "Epoch 6/20\n",
            "60000/60000 [==============================] - 1s 22us/step - loss: 0.0286 - accuracy: 0.9915 - val_loss: 0.0607 - val_accuracy: 0.9828\n",
            "Epoch 7/20\n",
            "60000/60000 [==============================] - 1s 22us/step - loss: 0.0218 - accuracy: 0.9940 - val_loss: 0.0670 - val_accuracy: 0.9819\n",
            "Epoch 8/20\n",
            "60000/60000 [==============================] - 1s 21us/step - loss: 0.0172 - accuracy: 0.9951 - val_loss: 0.0716 - val_accuracy: 0.9802\n",
            "Epoch 9/20\n",
            "60000/60000 [==============================] - 1s 22us/step - loss: 0.0129 - accuracy: 0.9963 - val_loss: 0.0704 - val_accuracy: 0.9811\n",
            "Epoch 10/20\n",
            "60000/60000 [==============================] - 1s 21us/step - loss: 0.0100 - accuracy: 0.9974 - val_loss: 0.0679 - val_accuracy: 0.9818\n",
            "Epoch 11/20\n",
            "60000/60000 [==============================] - 1s 22us/step - loss: 0.0076 - accuracy: 0.9979 - val_loss: 0.0715 - val_accuracy: 0.9821\n",
            "Epoch 12/20\n",
            "60000/60000 [==============================] - 1s 22us/step - loss: 0.0062 - accuracy: 0.9984 - val_loss: 0.0708 - val_accuracy: 0.9818\n",
            "Epoch 13/20\n",
            "60000/60000 [==============================] - 1s 21us/step - loss: 0.0048 - accuracy: 0.9986 - val_loss: 0.0751 - val_accuracy: 0.9814\n",
            "Epoch 14/20\n",
            "60000/60000 [==============================] - 1s 21us/step - loss: 0.0041 - accuracy: 0.9989 - val_loss: 0.0781 - val_accuracy: 0.9826\n",
            "Epoch 15/20\n",
            "60000/60000 [==============================] - 1s 21us/step - loss: 0.0036 - accuracy: 0.9991 - val_loss: 0.0773 - val_accuracy: 0.9829\n",
            "Epoch 16/20\n",
            "60000/60000 [==============================] - 1s 21us/step - loss: 0.0024 - accuracy: 0.9994 - val_loss: 0.0803 - val_accuracy: 0.9817\n",
            "Epoch 17/20\n",
            "60000/60000 [==============================] - 1s 21us/step - loss: 0.0017 - accuracy: 0.9996 - val_loss: 0.0806 - val_accuracy: 0.9823\n",
            "Epoch 18/20\n",
            "60000/60000 [==============================] - 1s 21us/step - loss: 0.0016 - accuracy: 0.9996 - val_loss: 0.0838 - val_accuracy: 0.9819\n",
            "Epoch 19/20\n",
            "60000/60000 [==============================] - 1s 21us/step - loss: 0.0012 - accuracy: 0.9998 - val_loss: 0.0854 - val_accuracy: 0.9829\n",
            "Epoch 20/20\n",
            "60000/60000 [==============================] - 1s 22us/step - loss: 0.0011 - accuracy: 0.9997 - val_loss: 0.0992 - val_accuracy: 0.9810\n"
          ],
          "name": "stdout"
        }
      ]
    },
    {
      "cell_type": "markdown",
      "metadata": {
        "id": "EtDNcx_4sWto",
        "colab_type": "text"
      },
      "source": [
        "將訓練後的模型輸入測試資料進行評比，一般說這樣的正確率應該會在 0.977% 左右"
      ]
    },
    {
      "cell_type": "code",
      "metadata": {
        "id": "hGoUFvzSsWto",
        "colab_type": "code",
        "outputId": "e90112f1-4c4d-4590-f24d-ae2657e43997",
        "colab": {
          "base_uri": "https://localhost:8080/",
          "height": 68
        }
      },
      "source": [
        "test_loss, test_acc = network.evaluate(fix_test_images, fix_test_labels)\n",
        "print('test_loss:', test_loss)\n",
        "print('test_acc:', test_acc)"
      ],
      "execution_count": 0,
      "outputs": [
        {
          "output_type": "stream",
          "text": [
            "10000/10000 [==============================] - 0s 44us/step\n",
            "test_loss: 0.09919960885650923\n",
            "test_acc: 0.9810000061988831\n"
          ],
          "name": "stdout"
        }
      ]
    },
    {
      "cell_type": "markdown",
      "metadata": {
        "id": "K4MCrO1osWts",
        "colab_type": "text"
      },
      "source": [
        "\n",
        "為什麽訓練時的正確率會高於驗證測試呢？在這樣數據中，由於模型訓練時對訓練資料造成些微的過度擬合 (Over Fitting) 。一般來說這樣的情況是正常的，未來我們可以透過參數的調整或其他方法提高正確性。"
      ]
    },
    {
      "cell_type": "markdown",
      "metadata": {
        "id": "Dy8b_Ll13xCA",
        "colab_type": "text"
      },
      "source": [
        "# 透過圖表協助分析訓練過程\n",
        "\n",
        "由於訓練 Model 時會進行好幾次的 Epoch，每一次 Epoch 都是對訓練資料集進行一輪完整的訓練，妥善觀察每一次 Epoch 的數據是很重要地。我們可以透過 matplotlib 函式庫繪製圖表，幫我們進行分析。\n",
        "\n",
        "以下方式可以繪製訓練過程 Loss Function 對應的損失分數。Validation loss 不一定會跟隨 Training loss 一起降低，當 Model Over Fitting Train Data 時，就會發生 Validation loss 上升的情況。"
      ]
    },
    {
      "cell_type": "code",
      "metadata": {
        "id": "5H3F5lUS1Anl",
        "colab_type": "code",
        "outputId": "4b401cad-5341-4e87-f854-30f4d41d0037",
        "colab": {
          "base_uri": "https://localhost:8080/",
          "height": 295
        }
      },
      "source": [
        "history_dict = result.history\n",
        "\n",
        "loss_values = history_dict['loss']\n",
        "val_loss_values = history_dict['val_loss']\n",
        "epochs = range(1, len(loss_values) + 1)\n",
        "\n",
        "import matplotlib.pyplot as plt\n",
        "plt.plot(epochs, loss_values, 'bo', label='Training loss')\n",
        "plt.plot(epochs, val_loss_values, 'b', label='Validation loss')\n",
        "plt.title('Training and validation loss')\n",
        "plt.xlabel('Epochs')\n",
        "plt.ylabel('Loss')\n",
        "plt.legend()\n",
        "\n",
        "plt.show()\n"
      ],
      "execution_count": 0,
      "outputs": [
        {
          "output_type": "display_data",
          "data": {
            "image/png": "[encoded data removed]",
            "text/plain": [
              "<Figure size 432x288 with 1 Axes>"
            ]
          },
          "metadata": {
            "tags": [],
            "needs_background": "light"
          }
        }
      ]
    },
    {
      "cell_type": "markdown",
      "metadata": {
        "id": "ZR9hbFm_4guG",
        "colab_type": "text"
      },
      "source": [
        "以下程式可以繪製訓練過程的正確率變化。訓練的過程中，當 Accuracy 後期並有沒太大的變化，表示 Model 很快就在假設空間裡進行不錯的收斂。"
      ]
    },
    {
      "cell_type": "code",
      "metadata": {
        "id": "PGiIWDC41M0i",
        "colab_type": "code",
        "outputId": "8d78d98e-c30a-4426-e577-b7e73aaa93ba",
        "colab": {
          "base_uri": "https://localhost:8080/",
          "height": 295
        }
      },
      "source": [
        "plt.clf()\n",
        "acc = history_dict['accuracy']\n",
        "val_acc = history_dict['val_accuracy']\n",
        "\n",
        "plt.plot(epochs, acc, 'bo', label='Training acc')\n",
        "plt.plot(epochs, val_acc, 'b', label='Validation acc')\n",
        "plt.title('Training and validation accuracy')\n",
        "plt.xlabel('Epochs')\n",
        "plt.ylabel('Accuracy')\n",
        "plt.legend()\n",
        "\n",
        "plt.show()\n"
      ],
      "execution_count": 0,
      "outputs": [
        {
          "output_type": "display_data",
          "data": {
            "image/png": "[encoded data removed]",
            "text/plain": [
              "<Figure size 432x288 with 1 Axes>"
            ]
          },
          "metadata": {
            "tags": [],
            "needs_background": "light"
          }
        }
      ]
    }
  ]
}
