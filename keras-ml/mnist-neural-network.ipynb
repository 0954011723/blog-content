{
  "nbformat": 4,
  "nbformat_minor": 0,
  "metadata": {
    "kernelspec": {
      "display_name": "Python 3",
      "language": "python",
      "name": "python3"
    },
    "language_info": {
      "codemirror_mode": {
        "name": "ipython",
        "version": 3
      },
      "file_extension": ".py",
      "mimetype": "text/x-python",
      "name": "python",
      "nbconvert_exporter": "python",
      "pygments_lexer": "ipython3",
      "version": "3.5.2"
    },
    "colab": {
      "name": "1. Keras-MNIST NN.ipynb",
      "provenance": [],
      "collapsed_sections": []
    },
    "accelerator": "GPU"
  },
  "cells": [
    {
      "cell_type": "code",
      "metadata": {
        "id": "Wo_tIFcbsWsh",
        "colab_type": "code",
        "outputId": "9dfdde13-d89e-43be-9829-da01f8a247b0",
        "colab": {
          "base_uri": "https://localhost:8080/",
          "height": 51
        }
      },
      "source": [
        "import keras\n",
        "keras.__version__"
      ],
      "execution_count": 1,
      "outputs": [
        {
          "output_type": "stream",
          "text": [
            "Using TensorFlow backend.\n"
          ],
          "name": "stderr"
        },
        {
          "output_type": "execute_result",
          "data": {
            "text/plain": [
              "'2.3.1'"
            ]
          },
          "metadata": {
            "tags": []
          },
          "execution_count": 1
        }
      ]
    },
    {
      "cell_type": "markdown",
      "metadata": {
        "id": "ew4NYq9qsWsq",
        "colab_type": "text"
      },
      "source": [
        "# Python Keras MNIST 手寫辨識\n",
        "\n",
        "這是一個神經網路的範例，利用了 Python Keras 來訓練一個手寫辨識分類 Model。\n",
        "\n",
        "我們要的問題是將手寫數字的灰度圖像（28x28 Pixel）分類為 10 類（0至9）。使用的數據集是 MNIST 典數據集，它是由國家標準技術研究所（MNIST 的 NIST）在1980年代組裝而成的，包含 60,000 張訓練圖像和 10,000 張測試圖像。您可以將「解決」MNIST 視為深度學習的 \"Hello World\"。"
      ]
    },
    {
      "cell_type": "markdown",
      "metadata": {
        "id": "IfEj-7_ruHYV",
        "colab_type": "text"
      },
      "source": [
        "由於 Keras 已經整理了一些經典的 Play Book Data，因此我們可以很快透過以下方式取得 MNIST 資料集"
      ]
    },
    {
      "cell_type": "code",
      "metadata": {
        "id": "j2mnzx6dsWss",
        "colab_type": "code",
        "colab": {
          "base_uri": "https://localhost:8080/",
          "height": 51
        },
        "outputId": "afde9790-c2c5-4098-f9c6-c0814920dbc3"
      },
      "source": [
        "from keras.datasets import mnist\n",
        "\n",
        "(train_images, train_labels), (test_images, test_labels) = mnist.load_data()"
      ],
      "execution_count": 2,
      "outputs": [
        {
          "output_type": "stream",
          "text": [
            "Downloading data from https://s3.amazonaws.com/img-datasets/mnist.npz\n",
            "11493376/11490434 [==============================] - 0s 0us/step\n"
          ],
          "name": "stdout"
        }
      ]
    },
    {
      "cell_type": "markdown",
      "metadata": {
        "id": "4_1MlWirsWtB",
        "colab_type": "text"
      },
      "source": [
        "images 是用來訓練與測試的資料，label 則為每一筆影像資料對應的正確答案，每一張手寫圖片都是 28 x 28 的灰階 Bit Map"
      ]
    },
    {
      "cell_type": "code",
      "metadata": {
        "id": "f2WYWTatsWtC",
        "colab_type": "code",
        "outputId": "794f4afd-597b-4713-addc-2e8bd4e8d10c",
        "colab": {
          "base_uri": "https://localhost:8080/",
          "height": 34
        }
      },
      "source": [
        "train_images.shape"
      ],
      "execution_count": 3,
      "outputs": [
        {
          "output_type": "execute_result",
          "data": {
            "text/plain": [
              "(60000, 28, 28)"
            ]
          },
          "metadata": {
            "tags": []
          },
          "execution_count": 3
        }
      ]
    },
    {
      "cell_type": "code",
      "metadata": {
        "id": "iHXYHenEsWtF",
        "colab_type": "code",
        "outputId": "79dc7519-9035-4a85-a1df-c14336cf1c1e",
        "colab": {
          "base_uri": "https://localhost:8080/",
          "height": 34
        }
      },
      "source": [
        "len(train_labels)"
      ],
      "execution_count": 4,
      "outputs": [
        {
          "output_type": "execute_result",
          "data": {
            "text/plain": [
              "60000"
            ]
          },
          "metadata": {
            "tags": []
          },
          "execution_count": 4
        }
      ]
    },
    {
      "cell_type": "code",
      "metadata": {
        "id": "h7uWisUlsWtI",
        "colab_type": "code",
        "outputId": "e47f7eab-93a3-4ae8-9509-fb44f092c86a",
        "colab": {
          "base_uri": "https://localhost:8080/",
          "height": 34
        }
      },
      "source": [
        "train_labels"
      ],
      "execution_count": 5,
      "outputs": [
        {
          "output_type": "execute_result",
          "data": {
            "text/plain": [
              "array([5, 0, 4, ..., 5, 6, 8], dtype=uint8)"
            ]
          },
          "metadata": {
            "tags": []
          },
          "execution_count": 5
        }
      ]
    },
    {
      "cell_type": "code",
      "metadata": {
        "id": "tH0iJlaLsWtN",
        "colab_type": "code",
        "outputId": "137a713d-0f03-47c2-c8d8-1f834a949848",
        "colab": {
          "base_uri": "https://localhost:8080/",
          "height": 34
        }
      },
      "source": [
        "test_images.shape"
      ],
      "execution_count": 6,
      "outputs": [
        {
          "output_type": "execute_result",
          "data": {
            "text/plain": [
              "(10000, 28, 28)"
            ]
          },
          "metadata": {
            "tags": []
          },
          "execution_count": 6
        }
      ]
    },
    {
      "cell_type": "code",
      "metadata": {
        "id": "XGp_yAo6sWtQ",
        "colab_type": "code",
        "outputId": "5462040d-7ec8-42d8-a1d0-40029559e4b0",
        "colab": {
          "base_uri": "https://localhost:8080/",
          "height": 34
        }
      },
      "source": [
        "len(test_labels)"
      ],
      "execution_count": 7,
      "outputs": [
        {
          "output_type": "execute_result",
          "data": {
            "text/plain": [
              "10000"
            ]
          },
          "metadata": {
            "tags": []
          },
          "execution_count": 7
        }
      ]
    },
    {
      "cell_type": "code",
      "metadata": {
        "id": "g3nyU7gR4yuH",
        "colab_type": "code",
        "colab": {
          "base_uri": "https://localhost:8080/",
          "height": 34
        },
        "outputId": "e8d2e3b1-0d8e-4b9f-8bf2-532ab5d135ac"
      },
      "source": [
        "test_labels\n"
      ],
      "execution_count": 8,
      "outputs": [
        {
          "output_type": "execute_result",
          "data": {
            "text/plain": [
              "array([7, 2, 1, ..., 4, 5, 6], dtype=uint8)"
            ]
          },
          "metadata": {
            "tags": []
          },
          "execution_count": 8
        }
      ]
    },
    {
      "cell_type": "markdown",
      "metadata": {
        "id": "fYDVLFoJ410s",
        "colab_type": "text"
      },
      "source": [
        "## 建立準備訓練的神經網路"
      ]
    },
    {
      "cell_type": "code",
      "metadata": {
        "id": "RwoYg6Q2sWtY",
        "colab_type": "code",
        "colab": {}
      },
      "source": [
        "from keras import models\n",
        "from keras import layers\n",
        "\n",
        "network = models.Sequential()\n",
        "network.add(layers.Dense(512, activation='relu', input_shape=(28 * 28,)))\n",
        "network.add(layers.Dense(10, activation='softmax'))"
      ],
      "execution_count": 0,
      "outputs": []
    },
    {
      "cell_type": "markdown",
      "metadata": {
        "id": "o32o6XjqsWtb",
        "colab_type": "text"
      },
      "source": [
        "上面這裡是神經網路的核心組成方式，我們在全連接層建立了兩層，由一個有 512 個神經元的網路架構連接到 10 個神經元的輸出層。輸出層採用 softmax 表示數字 0~9 的機率分配，這 10 個數字的總和將會是 1。以下將我們建立的網路進行 compile，這裡詳細的參數以後會介紹。"
      ]
    },
    {
      "cell_type": "code",
      "metadata": {
        "id": "IM_H7xf8sWtc",
        "colab_type": "code",
        "colab": {}
      },
      "source": [
        "network.compile(optimizer='rmsprop',\n",
        "                loss='categorical_crossentropy',\n",
        "                metrics=['accuracy'])"
      ],
      "execution_count": 0,
      "outputs": []
    },
    {
      "cell_type": "markdown",
      "metadata": {
        "id": "8DgKZNqNsWtf",
        "colab_type": "text"
      },
      "source": [
        "\n",
        "以下將資料正規劃成為 0~1 的數值，變成 60000, 28x28 Shape 好送進上面定義的網路輸入層。"
      ]
    },
    {
      "cell_type": "code",
      "metadata": {
        "id": "CwlXFOF4sWtf",
        "colab_type": "code",
        "colab": {}
      },
      "source": [
        "fix_train_images = train_images.reshape((60000, 28 * 28)).astype('float32') / 255\n",
        "fix_test_images = test_images.reshape((10000, 28 * 28)).astype('float32') / 255"
      ],
      "execution_count": 0,
      "outputs": []
    },
    {
      "cell_type": "markdown",
      "metadata": {
        "id": "7fMWx4uusWtj",
        "colab_type": "text"
      },
      "source": [
        "由於我們使用的 categorical_crossentropy 損失函數，因此將標記資料進行格式轉換。如下："
      ]
    },
    {
      "cell_type": "code",
      "metadata": {
        "id": "NpzKOM4IsWtj",
        "colab_type": "code",
        "colab": {}
      },
      "source": [
        "from keras.utils import to_categorical\n",
        "\n",
        "fix_train_labels = to_categorical(train_labels)\n",
        "fix_test_labels = to_categorical(test_labels)"
      ],
      "execution_count": 0,
      "outputs": []
    },
    {
      "cell_type": "markdown",
      "metadata": {
        "id": "4BneVUiWsWtl",
        "colab_type": "text"
      },
      "source": [
        "進行訓練模型，訓練中的正確率應該會在 0.989 左右"
      ]
    },
    {
      "cell_type": "code",
      "metadata": {
        "id": "hyAErT-lsWtm",
        "colab_type": "code",
        "outputId": "93f97af7-420f-401e-8420-9941e9fff748",
        "colab": {
          "base_uri": "https://localhost:8080/",
          "height": 714
        }
      },
      "source": [
        "result = network.fit(\n",
        "    fix_train_images,\n",
        "    fix_train_labels,\n",
        "    epochs=20,\n",
        "    batch_size=128,\n",
        "    validation_data=(fix_test_images, fix_test_labels))"
      ],
      "execution_count": 13,
      "outputs": [
        {
          "output_type": "stream",
          "text": [
            "Train on 60000 samples, validate on 10000 samples\n",
            "Epoch 1/20\n",
            "60000/60000 [==============================] - 4s 63us/step - loss: 0.2536 - accuracy: 0.9264 - val_loss: 0.1373 - val_accuracy: 0.9574\n",
            "Epoch 2/20\n",
            "60000/60000 [==============================] - 2s 36us/step - loss: 0.1035 - accuracy: 0.9682 - val_loss: 0.0968 - val_accuracy: 0.9688\n",
            "Epoch 3/20\n",
            "60000/60000 [==============================] - 2s 36us/step - loss: 0.0677 - accuracy: 0.9797 - val_loss: 0.0817 - val_accuracy: 0.9750\n",
            "Epoch 4/20\n",
            "60000/60000 [==============================] - 2s 36us/step - loss: 0.0488 - accuracy: 0.9852 - val_loss: 0.0690 - val_accuracy: 0.9797\n",
            "Epoch 5/20\n",
            "60000/60000 [==============================] - 2s 34us/step - loss: 0.0376 - accuracy: 0.9886 - val_loss: 0.0673 - val_accuracy: 0.9789\n",
            "Epoch 6/20\n",
            "60000/60000 [==============================] - 2s 36us/step - loss: 0.0289 - accuracy: 0.9913 - val_loss: 0.0658 - val_accuracy: 0.9793\n",
            "Epoch 7/20\n",
            "60000/60000 [==============================] - 2s 35us/step - loss: 0.0226 - accuracy: 0.9936 - val_loss: 0.0630 - val_accuracy: 0.9822\n",
            "Epoch 8/20\n",
            "60000/60000 [==============================] - 2s 35us/step - loss: 0.0169 - accuracy: 0.9953 - val_loss: 0.0641 - val_accuracy: 0.9823\n",
            "Epoch 9/20\n",
            "60000/60000 [==============================] - 2s 37us/step - loss: 0.0138 - accuracy: 0.9961 - val_loss: 0.0695 - val_accuracy: 0.9820\n",
            "Epoch 10/20\n",
            "60000/60000 [==============================] - 2s 35us/step - loss: 0.0099 - accuracy: 0.9973 - val_loss: 0.0698 - val_accuracy: 0.9815\n",
            "Epoch 11/20\n",
            "60000/60000 [==============================] - 2s 35us/step - loss: 0.0081 - accuracy: 0.9977 - val_loss: 0.0744 - val_accuracy: 0.9807\n",
            "Epoch 12/20\n",
            "60000/60000 [==============================] - 2s 36us/step - loss: 0.0062 - accuracy: 0.9983 - val_loss: 0.0732 - val_accuracy: 0.9815\n",
            "Epoch 13/20\n",
            "60000/60000 [==============================] - 2s 37us/step - loss: 0.0049 - accuracy: 0.9987 - val_loss: 0.0704 - val_accuracy: 0.9829\n",
            "Epoch 14/20\n",
            "60000/60000 [==============================] - 2s 36us/step - loss: 0.0042 - accuracy: 0.9990 - val_loss: 0.0785 - val_accuracy: 0.9815\n",
            "Epoch 15/20\n",
            "60000/60000 [==============================] - 2s 36us/step - loss: 0.0030 - accuracy: 0.9991 - val_loss: 0.0785 - val_accuracy: 0.9830\n",
            "Epoch 16/20\n",
            "60000/60000 [==============================] - 2s 36us/step - loss: 0.0027 - accuracy: 0.9992 - val_loss: 0.0797 - val_accuracy: 0.9829\n",
            "Epoch 17/20\n",
            "60000/60000 [==============================] - 2s 35us/step - loss: 0.0018 - accuracy: 0.9995 - val_loss: 0.0809 - val_accuracy: 0.9831\n",
            "Epoch 18/20\n",
            "60000/60000 [==============================] - 2s 36us/step - loss: 0.0018 - accuracy: 0.9995 - val_loss: 0.0830 - val_accuracy: 0.9826\n",
            "Epoch 19/20\n",
            "60000/60000 [==============================] - 2s 36us/step - loss: 0.0011 - accuracy: 0.9997 - val_loss: 0.0895 - val_accuracy: 0.9826\n",
            "Epoch 20/20\n",
            "60000/60000 [==============================] - 2s 35us/step - loss: 8.4929e-04 - accuracy: 0.9998 - val_loss: 0.0853 - val_accuracy: 0.9835\n"
          ],
          "name": "stdout"
        }
      ]
    },
    {
      "cell_type": "markdown",
      "metadata": {
        "id": "EtDNcx_4sWto",
        "colab_type": "text"
      },
      "source": [
        "將訓練後的模型輸入測試資料進行評比，一般說這樣的正確率應該會在 0.977% 左右"
      ]
    },
    {
      "cell_type": "code",
      "metadata": {
        "id": "hGoUFvzSsWto",
        "colab_type": "code",
        "outputId": "9f3f3817-3112-41ad-ef11-d239ad5476b5",
        "colab": {
          "base_uri": "https://localhost:8080/",
          "height": 68
        }
      },
      "source": [
        "test_loss, test_acc = network.evaluate(fix_test_images, fix_test_labels)\n",
        "print('test_loss:', test_loss)\n",
        "print('test_acc:', test_acc)"
      ],
      "execution_count": 14,
      "outputs": [
        {
          "output_type": "stream",
          "text": [
            "10000/10000 [==============================] - 1s 77us/step\n",
            "test_loss: 0.08534976623827886\n",
            "test_acc: 0.9835000038146973\n"
          ],
          "name": "stdout"
        }
      ]
    },
    {
      "cell_type": "markdown",
      "metadata": {
        "id": "K4MCrO1osWts",
        "colab_type": "text"
      },
      "source": [
        "\n",
        "為什麽訓練時的正確率會高於驗證測試呢？在這樣數據中，由於模型訓練時對訓練資料造成些微的過度擬合 (Over Fitting) 。一般來說這樣的情況是正常的，未來我們可以透過參數的調整或其他方法提高正確性。"
      ]
    },
    {
      "cell_type": "markdown",
      "metadata": {
        "id": "Dy8b_Ll13xCA",
        "colab_type": "text"
      },
      "source": [
        "# 透過圖表協助分析訓練過程\n",
        "\n",
        "由於訓練 Model 時會進行好幾次的 Epoch，每一次 Epoch 都是對訓練資料集進行一輪完整的訓練，妥善觀察每一次 Epoch 的數據是很重要地。我們可以透過 matplotlib 函式庫繪製圖表，幫我們進行分析。\n",
        "\n",
        "以下方式可以繪製訓練過程 Loss Function 對應的損失分數。Validation loss 不一定會跟隨 Training loss 一起降低，當 Model Over Fitting Train Data 時，就會發生 Validation loss 上升的情況。"
      ]
    },
    {
      "cell_type": "code",
      "metadata": {
        "id": "5H3F5lUS1Anl",
        "colab_type": "code",
        "outputId": "61bde1da-00f5-48a7-9b1d-887e79ae7a40",
        "colab": {
          "base_uri": "https://localhost:8080/",
          "height": 295
        }
      },
      "source": [
        "history_dict = result.history\n",
        "\n",
        "loss_values = history_dict['loss']\n",
        "val_loss_values = history_dict['val_loss']\n",
        "epochs = range(1, len(loss_values) + 1)\n",
        "\n",
        "import matplotlib.pyplot as plt\n",
        "plt.plot(epochs, loss_values, 'bo', label='Training loss')\n",
        "plt.plot(epochs, val_loss_values, 'b', label='Validation loss')\n",
        "plt.title('Training and validation loss')\n",
        "plt.xlabel('Epochs')\n",
        "plt.ylabel('Loss')\n",
        "plt.legend()\n",
        "\n",
        "plt.show()\n"
      ],
      "execution_count": 15,
      "outputs": [
        {
          "output_type": "display_data",
          "data": {
            "image/png": "[encoded data removed]",
            "text/plain": [
              "<Figure size 432x288 with 1 Axes>"
            ]
          },
          "metadata": {
            "tags": [],
            "needs_background": "light"
          }
        }
      ]
    },
    {
      "cell_type": "markdown",
      "metadata": {
        "id": "ZR9hbFm_4guG",
        "colab_type": "text"
      },
      "source": [
        "以下程式可以繪製訓練過程的正確率變化。訓練的過程中，當 Accuracy 後期並有沒太大的變化，表示 Model 很快就在假設空間裡進行不錯的收斂。"
      ]
    },
    {
      "cell_type": "code",
      "metadata": {
        "id": "PGiIWDC41M0i",
        "colab_type": "code",
        "outputId": "d4265c2a-3818-449e-986c-7254a1ad19c0",
        "colab": {
          "base_uri": "https://localhost:8080/",
          "height": 295
        }
      },
      "source": [
        "plt.clf()\n",
        "acc = history_dict['accuracy']\n",
        "val_acc = history_dict['val_accuracy']\n",
        "\n",
        "plt.plot(epochs, acc, 'bo', label='Training acc')\n",
        "plt.plot(epochs, val_acc, 'b', label='Validation acc')\n",
        "plt.title('Training and validation accuracy')\n",
        "plt.xlabel('Epochs')\n",
        "plt.ylabel('Accuracy')\n",
        "plt.legend()\n",
        "\n",
        "plt.show()\n"
      ],
      "execution_count": 16,
      "outputs": [
        {
          "output_type": "display_data",
          "data": {
            "image/png": "[encoded data removed]",
            "text/plain": [
              "<Figure size 432x288 with 1 Axes>"
            ]
          },
          "metadata": {
            "tags": [],
            "needs_background": "light"
          }
        }
      ]
    }
  ]
}
